{
 "cells": [
  {
   "cell_type": "code",
   "execution_count": null,
   "metadata": {},
   "outputs": [],
   "source": [
    "import os\n",
    "import folium\n",
    "from folium import plugins\n",
    "\n",
    "print(folium.__version__)"
   ]
  },
  {
   "cell_type": "code",
   "execution_count": null,
   "metadata": {},
   "outputs": [],
   "source": [
    "m = folium.Map(location=[45.372, -121.6972], zoom_start=12,\n",
    "                   tiles='Stamen Terrain')\n",
    "folium.Marker([45.3311, -121.6625], popup='Number One',\n",
    "              icon=plugins.IconNumbered(color ='red')).add_to(m)\n",
    "folium.Marker([45.3311, -121.7113], popup='Timberline Lodge').add_to(m)\n",
    "\n",
    "m.save(os.path.join('results', 'IconNumbered_simple.html'))\n",
    "\n",
    "m"
   ]
  }
 ],
 "metadata": {},
 "nbformat": 4,
 "nbformat_minor": 0
}